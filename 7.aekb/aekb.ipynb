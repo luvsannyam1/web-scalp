{
 "cells": [
  {
   "cell_type": "code",
   "execution_count": null,
   "metadata": {},
   "outputs": [],
   "source": [
    "import requests\n",
    "\n",
    "url = \"https://www.aekb.de/service-kontakt/verzeichnisse/verzeichnis-der-weiterbildungsbefugten?tx_vdinterfaces_authoritieslist%5Barea%5D=&tx_vdinterfaces_authoritieslist%5BauthorizationLevel%5D=&tx_vdinterfaces_authoritieslist%5BcurrentPage%5D=2&tx_vdinterfaces_authoritieslist%5BfieldOfStudy%5D=&tx_vdinterfaces_authoritieslist%5BnameDoctor%5D=&tx_vdinterfaces_authoritieslist%5BorganizationLocation%5D=&tx_vdinterfaces_authoritieslist%5BorganizationName%5D=&tx_vdinterfaces_authoritieslist%5BorganizationType%5D=&tx_vdinterfaces_authoritieslist%5BorganizationZipCode%5D=&tx_vdinterfaces_authoritieslist%5Bregulation%5D=&tx_vdinterfaces_authoritieslist%5BsortbyAuthoritySharing%5D=&tx_vdinterfaces_authoritieslist%5BsortbyType%5D=&tx_vdinterfaces_authoritieslist%5Bstatus%5D=&tx_vdinterfaces_authoritieslist%5B__referrer%5D%5B%40action%5D=list&tx_vdinterfaces_authoritieslist%5B__referrer%5D%5B%40controller%5D=Authority&tx_vdinterfaces_authoritieslist%5B__referrer%5D%5B%40extension%5D=VdInterfaces&tx_vdinterfaces_authoritieslist%5B__referrer%5D%5B%40request%5D=%7B%22%40extension%22%3A%22VdInterfaces%22%2C%22%40controller%22%3A%22Authority%22%2C%22%40action%22%3A%22list%22%7Dcc82df97e621634bd57e277a807d64b3a0ca4629&tx_vdinterfaces_authoritieslist%5B__referrer%5D%5Barguments%5D=YToxMjp7czo0OiJhcmVhIjtzOjA6IiI7czoxODoiYXV0aG9yaXphdGlvbkxldmVsIjtzOjA6IiI7czoxMjoiZmllbGRPZlN0dWR5IjtzOjA6IiI7czoxMDoibmFtZURvY3RvciI7czowOiIiO3M6MjA6Im9yZ2FuaXphdGlvbkxvY2F0aW9uIjtzOjA6IiI7czoxNjoib3JnYW5pemF0aW9uTmFtZSI7czowOiIiO3M6MTY6Im9yZ2FuaXphdGlvblR5cGUiO3M6MDoiIjtzOjE5OiJvcmdhbml6YXRpb25aaXBDb2RlIjtzOjA6IiI7czoxMDoicmVndWxhdGlvbiI7czowOiIiO3M6MjI6InNvcnRieUF1dGhvcml0eVNoYXJpbmciO3M6MDoiIjtzOjEwOiJzb3J0YnlUeXBlIjtzOjA6IiI7czo2OiJzdGF0dXMiO3M6MDoiIjt9ac2a1e73926cf71163806384fd590da2b7c91f0e&tx_vdinterfaces_authoritieslist%5B__trustedProperties%5D=%7B%22nameDoctor%22%3A1%2C%22authorizationLevel%22%3A1%2C%22organizationName%22%3A1%2C%22organizationZipCode%22%3A1%2C%22organizationLocation%22%3A1%2C%22organizationType%22%3A1%2C%22regulation%22%3A1%2C%22area%22%3A1%2C%22status%22%3A1%2C%22fieldOfStudy%22%3A1%2C%22sortbyType%22%3A1%2C%22sortbyAuthoritySharing%22%3A1%7Dc529929da20dc453bb2f239fe151589fa136e0f4&cHash=56cc627c175d08d86e44c70835a1c7ce\"\n",
    "\n",
    "payload={}\n",
    "files={}\n",
    "headers = {\n",
    "  'Content-Type': 'application/x-www-form-urlencoded'\n",
    "}\n",
    "\n",
    "response = requests.request(\"POST\", url, headers=headers, data=payload, files=files)\n",
    "\n",
    "print(response.text)\n"
   ]
  }
 ],
 "metadata": {
  "kernelspec": {
   "display_name": "Python 3.10.7 64-bit",
   "language": "python",
   "name": "python3"
  },
  "language_info": {
   "name": "python",
   "version": "3.10.7"
  },
  "orig_nbformat": 4,
  "vscode": {
   "interpreter": {
    "hash": "e7370f93d1d0cde622a1f8e1c04877d8463912d04d973331ad4851f04de6915a"
   }
  }
 },
 "nbformat": 4,
 "nbformat_minor": 2
}
