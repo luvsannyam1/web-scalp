{
 "cells": [
  {
   "cell_type": "markdown",
   "metadata": {},
   "source": [
    "`https://www.aekwl.de/fuer-aerzte/weiterbildung/befugnisse-zur-weiterbildung/datenbank-weiterbildungsbefugte-aerzte/?tx_wfqbe_pi1%5Bsubmit%5D=Suchen&tx_wfqbe_pi1%5Bshowpage%5D%5B189%5D=` collected data"
   ]
  },
  {
   "cell_type": "code",
   "execution_count": null,
   "metadata": {},
   "outputs": [],
   "source": [
    "import requests"
   ]
  },
  {
   "cell_type": "code",
   "execution_count": null,
   "metadata": {},
   "outputs": [],
   "source": [
    "current = 0"
   ]
  },
  {
   "cell_type": "code",
   "execution_count": null,
   "metadata": {},
   "outputs": [],
   "source": [
    "def get_data(pagination):\n",
    "  url = \"https://www.aekwl.de/fuer-aerzte/weiterbildung/befugnisse-zur-weiterbildung/datenbank-weiterbildungsbefugte-aerzte/?tx_wfqbe_pi1%5Bsubmit%5D=Suchen&tx_wfqbe_pi1%5Bshowpage%5D%5B189%5D=\"+str(pagination)\n",
    "\n",
    "  payload={}\n",
    "  headers = {\n",
    "    'Cookie': 'PHPSESSID=7bso6lb99pa7luim70n7qqu3f2'\n",
    "  }\n",
    "\n",
    "  response = requests.request(\"GET\", url, headers=headers, data=payload)\n",
    "\n",
    "  print(response.text)"
   ]
  }
 ],
 "metadata": {
  "kernelspec": {
   "display_name": "Python 3.10.7 64-bit",
   "language": "python",
   "name": "python3"
  },
  "language_info": {
   "name": "python",
   "version": "3.10.7"
  },
  "orig_nbformat": 4,
  "vscode": {
   "interpreter": {
    "hash": "e7370f93d1d0cde622a1f8e1c04877d8463912d04d973331ad4851f04de6915a"
   }
  }
 },
 "nbformat": 4,
 "nbformat_minor": 2
}
